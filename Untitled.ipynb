{
 "cells": [
  {
   "cell_type": "code",
   "execution_count": 1,
   "metadata": {},
   "outputs": [
    {
     "name": "stdout",
     "output_type": "stream",
     "text": [
      "Data-sets\n",
      "First_attempt.h5\n",
      "First_attempt.json\n",
      "README.txt\n",
      "Untitled.ipynb\n",
      "__pycache__\n",
      "feature_extraction.py\n",
      "motion_sense_main.py\n",
      "neural_network_mode.h5\n",
      "neural_network_mode.json\n",
      "neural_network_model.h5\n",
      "neural_network_model.json\n",
      "relative_location.py\n",
      "requirements.txt\n",
      "uci_main.py\n",
      "uci_raw_main.py\n",
      "util.py\n",
      "venv\n"
     ]
    }
   ],
   "source": [
    "!ls"
   ]
  },
  {
   "cell_type": "code",
   "execution_count": 4,
   "metadata": {},
   "outputs": [
    {
     "name": "stdout",
     "output_type": "stream",
     "text": [
      "Requirement already satisfied: attrs==19.1.0 in c:\\users\\ckinw\\appdata\\local\\programs\\python\\python36\\lib\\site-packages (from -r requirements.txt (line 1)) (19.1.0)\n",
      "Requirement already satisfied: backcall==0.1.0 in c:\\users\\ckinw\\appdata\\local\\programs\\python\\python36\\lib\\site-packages (from -r requirements.txt (line 2)) (0.1.0)\n",
      "Requirement already satisfied: bleach==3.1.0 in c:\\users\\ckinw\\appdata\\local\\programs\\python\\python36\\lib\\site-packages (from -r requirements.txt (line 3)) (3.1.0)\n",
      "Requirement already satisfied: certifi==2019.9.11 in c:\\users\\ckinw\\appdata\\local\\programs\\python\\python36\\lib\\site-packages (from -r requirements.txt (line 4)) (2019.9.11)\n",
      "Requirement already satisfied: chardet==3.0.4 in c:\\users\\ckinw\\appdata\\local\\programs\\python\\python36\\lib\\site-packages (from -r requirements.txt (line 5)) (3.0.4)\n",
      "Requirement already satisfied: Click==7.0 in c:\\users\\ckinw\\appdata\\local\\programs\\python\\python36\\lib\\site-packages (from -r requirements.txt (line 6)) (7.0)\n",
      "Requirement already satisfied: colorama==0.4.1 in c:\\users\\ckinw\\appdata\\local\\programs\\python\\python36\\lib\\site-packages (from -r requirements.txt (line 7)) (0.4.1)\n",
      "Requirement already satisfied: decorator==4.4.0 in c:\\users\\ckinw\\appdata\\local\\programs\\python\\python36\\lib\\site-packages (from -r requirements.txt (line 8)) (4.4.0)\n",
      "Requirement already satisfied: defusedxml==0.6.0 in c:\\users\\ckinw\\appdata\\local\\programs\\python\\python36\\lib\\site-packages (from -r requirements.txt (line 9)) (0.6.0)\n",
      "Requirement already satisfied: entrypoints==0.3 in c:\\users\\ckinw\\appdata\\local\\programs\\python\\python36\\lib\\site-packages (from -r requirements.txt (line 10)) (0.3)\n",
      "Requirement already satisfied: enum34==1.1.6 in c:\\users\\ckinw\\appdata\\local\\programs\\python\\python36\\lib\\site-packages (from -r requirements.txt (line 11)) (1.1.6)\n",
      "Requirement already satisfied: grpcio==1.19.0 in c:\\users\\ckinw\\appdata\\local\\programs\\python\\python36\\lib\\site-packages (from -r requirements.txt (line 12)) (1.19.0)\n",
      "Requirement already satisfied: idna==2.8 in c:\\users\\ckinw\\appdata\\local\\programs\\python\\python36\\lib\\site-packages (from -r requirements.txt (line 13)) (2.8)\n",
      "Requirement already satisfied: ipykernel==5.1.1 in c:\\users\\ckinw\\appdata\\local\\programs\\python\\python36\\lib\\site-packages (from -r requirements.txt (line 14)) (5.1.1)\n",
      "Requirement already satisfied: ipython==7.6.1 in c:\\users\\ckinw\\appdata\\local\\programs\\python\\python36\\lib\\site-packages (from -r requirements.txt (line 15)) (7.6.1)\n",
      "Requirement already satisfied: ipython-genutils==0.2.0 in c:\\users\\ckinw\\appdata\\local\\programs\\python\\python36\\lib\\site-packages (from -r requirements.txt (line 16)) (0.2.0)\n",
      "Requirement already satisfied: ipywidgets==7.5.0 in c:\\users\\ckinw\\appdata\\local\\programs\\python\\python36\\lib\\site-packages (from -r requirements.txt (line 17)) (7.5.0)\n",
      "Requirement already satisfied: jedi==0.14.1 in c:\\users\\ckinw\\appdata\\local\\programs\\python\\python36\\lib\\site-packages (from -r requirements.txt (line 18)) (0.14.1)\n",
      "Requirement already satisfied: Jinja2==2.10.1 in c:\\users\\ckinw\\appdata\\local\\programs\\python\\python36\\lib\\site-packages (from -r requirements.txt (line 19)) (2.10.1)\n",
      "Requirement already satisfied: jsonschema==3.0.1 in c:\\users\\ckinw\\appdata\\local\\programs\\python\\python36\\lib\\site-packages (from -r requirements.txt (line 20)) (3.0.1)\n",
      "Requirement already satisfied: jupyter==1.0.0 in c:\\users\\ckinw\\appdata\\local\\programs\\python\\python36\\lib\\site-packages (from -r requirements.txt (line 21)) (1.0.0)\n",
      "Requirement already satisfied: jupyter-client==5.3.1 in c:\\users\\ckinw\\appdata\\local\\programs\\python\\python36\\lib\\site-packages (from -r requirements.txt (line 22)) (5.3.1)\n",
      "Requirement already satisfied: jupyter-console==6.0.0 in c:\\users\\ckinw\\appdata\\local\\programs\\python\\python36\\lib\\site-packages (from -r requirements.txt (line 23)) (6.0.0)\n",
      "Requirement already satisfied: jupyter-core==4.5.0 in c:\\users\\ckinw\\appdata\\local\\programs\\python\\python36\\lib\\site-packages (from -r requirements.txt (line 24)) (4.5.0)\n",
      "Requirement already satisfied: jupyter-http-over-ws==0.0.6 in c:\\users\\ckinw\\appdata\\local\\programs\\python\\python36\\lib\\site-packages (from -r requirements.txt (line 25)) (0.0.6)\n",
      "Requirement already satisfied: MarkupSafe==1.1.1 in c:\\users\\ckinw\\appdata\\local\\programs\\python\\python36\\lib\\site-packages (from -r requirements.txt (line 26)) (1.1.1)\n",
      "Requirement already satisfied: mistune==0.8.4 in c:\\users\\ckinw\\appdata\\local\\programs\\python\\python36\\lib\\site-packages (from -r requirements.txt (line 27)) (0.8.4)\n",
      "Requirement already satisfied: nbconvert==5.5.0 in c:\\users\\ckinw\\appdata\\local\\programs\\python\\python36\\lib\\site-packages (from -r requirements.txt (line 28)) (5.5.0)\n",
      "Requirement already satisfied: nbformat==4.4.0 in c:\\users\\ckinw\\appdata\\local\\programs\\python\\python36\\lib\\site-packages (from -r requirements.txt (line 29)) (4.4.0)\n",
      "Requirement already satisfied: notebook==6.0.0 in c:\\users\\ckinw\\appdata\\local\\programs\\python\\python36\\lib\\site-packages (from -r requirements.txt (line 30)) (6.0.0)\n",
      "Requirement already satisfied: numpy==1.15.4 in c:\\users\\ckinw\\appdata\\local\\programs\\python\\python36\\lib\\site-packages (from -r requirements.txt (line 31)) (1.15.4)\n",
      "Requirement already satisfied: pandocfilters==1.4.2 in c:\\users\\ckinw\\appdata\\local\\programs\\python\\python36\\lib\\site-packages (from -r requirements.txt (line 32)) (1.4.2)\n",
      "Requirement already satisfied: parso==0.5.1 in c:\\users\\ckinw\\appdata\\local\\programs\\python\\python36\\lib\\site-packages (from -r requirements.txt (line 33)) (0.5.1)\n",
      "Requirement already satisfied: pickleshare==0.7.5 in c:\\users\\ckinw\\appdata\\local\\programs\\python\\python36\\lib\\site-packages (from -r requirements.txt (line 34)) (0.7.5)\n",
      "Requirement already satisfied: prometheus-client==0.7.1 in c:\\users\\ckinw\\appdata\\local\\programs\\python\\python36\\lib\\site-packages (from -r requirements.txt (line 35)) (0.7.1)\n",
      "Requirement already satisfied: prompt-toolkit==2.0.9 in c:\\users\\ckinw\\appdata\\local\\programs\\python\\python36\\lib\\site-packages (from -r requirements.txt (line 36)) (2.0.9)\n",
      "Requirement already satisfied: protobuf==3.7.0 in c:\\users\\ckinw\\appdata\\local\\programs\\python\\python36\\lib\\site-packages (from -r requirements.txt (line 37)) (3.7.0)\n",
      "Requirement already satisfied: Pygments==2.4.2 in c:\\users\\ckinw\\appdata\\local\\programs\\python\\python36\\lib\\site-packages (from -r requirements.txt (line 38)) (2.4.2)\n",
      "Requirement already satisfied: pymodm==0.4.1 in c:\\users\\ckinw\\appdata\\local\\programs\\python\\python36\\lib\\site-packages (from -r requirements.txt (line 39)) (0.4.1)\n",
      "Requirement already satisfied: pymongo==3.7.2 in c:\\users\\ckinw\\appdata\\local\\programs\\python\\python36\\lib\\site-packages (from -r requirements.txt (line 40)) (3.7.2)\n",
      "Requirement already satisfied: pyrsistent==0.15.3 in c:\\users\\ckinw\\appdata\\local\\programs\\python\\python36\\lib\\site-packages (from -r requirements.txt (line 41)) (0.15.3)\n",
      "Requirement already satisfied: python-dateutil==2.8.0 in c:\\users\\ckinw\\appdata\\local\\programs\\python\\python36\\lib\\site-packages (from -r requirements.txt (line 42)) (2.8.0)\n",
      "Requirement already satisfied: pywinpty==0.5.5 in c:\\users\\ckinw\\appdata\\local\\programs\\python\\python36\\lib\\site-packages (from -r requirements.txt (line 43)) (0.5.5)\n",
      "Requirement already satisfied: PyYAML==3.13 in c:\\users\\ckinw\\appdata\\local\\programs\\python\\python36\\lib\\site-packages (from -r requirements.txt (line 44)) (3.13)\n",
      "Requirement already satisfied: pyzmq==18.0.2 in c:\\users\\ckinw\\appdata\\local\\programs\\python\\python36\\lib\\site-packages (from -r requirements.txt (line 45)) (18.0.2)\n",
      "Requirement already satisfied: qtconsole==4.5.1 in c:\\users\\ckinw\\appdata\\local\\programs\\python\\python36\\lib\\site-packages (from -r requirements.txt (line 46)) (4.5.1)\n",
      "Requirement already satisfied: requests==2.22.0 in c:\\users\\ckinw\\appdata\\local\\programs\\python\\python36\\lib\\site-packages (from -r requirements.txt (line 47)) (2.22.0)\n",
      "Requirement already satisfied: scandir==1.10.0 in c:\\users\\ckinw\\appdata\\local\\programs\\python\\python36\\lib\\site-packages (from -r requirements.txt (line 48)) (1.10.0)\n",
      "Collecting scikit-learn\n",
      "  Downloading scikit_learn-0.22.2.post1-cp36-cp36m-win_amd64.whl (6.5 MB)\n",
      "Requirement already satisfied: Send2Trash==1.5.0 in c:\\users\\ckinw\\appdata\\local\\programs\\python\\python36\\lib\\site-packages (from -r requirements.txt (line 50)) (1.5.0)\n",
      "Requirement already satisfied: six==1.12.0 in c:\\users\\ckinw\\appdata\\local\\programs\\python\\python36\\lib\\site-packages (from -r requirements.txt (line 51)) (1.12.0)\n",
      "Requirement already satisfied: termcolor==1.1.0 in c:\\users\\ckinw\\appdata\\local\\programs\\python\\python36\\lib\\site-packages (from -r requirements.txt (line 52)) (1.1.0)\n",
      "Requirement already satisfied: terminado==0.8.2 in c:\\users\\ckinw\\appdata\\local\\programs\\python\\python36\\lib\\site-packages (from -r requirements.txt (line 53)) (0.8.2)\n",
      "Requirement already satisfied: terminaltables==3.1.0 in c:\\users\\ckinw\\appdata\\local\\programs\\python\\python36\\lib\\site-packages (from -r requirements.txt (line 54)) (3.1.0)\n",
      "Requirement already satisfied: testpath==0.4.2 in c:\\users\\ckinw\\appdata\\local\\programs\\python\\python36\\lib\\site-packages (from -r requirements.txt (line 55)) (0.4.2)\n",
      "Requirement already satisfied: tornado==6.0.3 in c:\\users\\ckinw\\appdata\\local\\programs\\python\\python36\\lib\\site-packages (from -r requirements.txt (line 56)) (6.0.3)\n",
      "Requirement already satisfied: tqdm==4.31.1 in c:\\users\\ckinw\\appdata\\local\\programs\\python\\python36\\lib\\site-packages (from -r requirements.txt (line 57)) (4.31.1)\n",
      "Requirement already satisfied: traitlets==4.3.2 in c:\\users\\ckinw\\appdata\\local\\programs\\python\\python36\\lib\\site-packages (from -r requirements.txt (line 58)) (4.3.2)\n",
      "Requirement already satisfied: urllib3==1.25.6 in c:\\users\\ckinw\\appdata\\local\\programs\\python\\python36\\lib\\site-packages (from -r requirements.txt (line 59)) (1.25.6)\n",
      "Requirement already satisfied: virtualenv==16.1.0 in c:\\users\\ckinw\\appdata\\local\\programs\\python\\python36\\lib\\site-packages (from -r requirements.txt (line 60)) (16.1.0)\n",
      "Requirement already satisfied: virtualenvwrapper-win==1.2.5 in c:\\users\\ckinw\\appdata\\local\\programs\\python\\python36\\lib\\site-packages (from -r requirements.txt (line 61)) (1.2.5)\n",
      "Requirement already satisfied: wcwidth==0.1.7 in c:\\users\\ckinw\\appdata\\local\\programs\\python\\python36\\lib\\site-packages (from -r requirements.txt (line 62)) (0.1.7)\n",
      "Requirement already satisfied: webencodings==0.5.1 in c:\\users\\ckinw\\appdata\\local\\programs\\python\\python36\\lib\\site-packages (from -r requirements.txt (line 63)) (0.5.1)\n",
      "Requirement already satisfied: widgetsnbextension==3.5.0 in c:\\users\\ckinw\\appdata\\local\\programs\\python\\python36\\lib\\site-packages (from -r requirements.txt (line 64)) (3.5.0)\n",
      "Collecting keras==2.3.1\n",
      "  Using cached Keras-2.3.1-py2.py3-none-any.whl (377 kB)\n",
      "Requirement already satisfied: matplotlib==3.1.3 in c:\\users\\ckinw\\appdata\\local\\programs\\python\\python36\\lib\\site-packages (from -r requirements.txt (line 66)) (3.1.3)\n",
      "Collecting pandas==1.0.1\n",
      "  Using cached pandas-1.0.1-cp36-cp36m-win_amd64.whl (8.8 MB)\n",
      "Requirement already satisfied: setuptools>=18.5 in c:\\users\\ckinw\\appdata\\local\\programs\\python\\python36\\lib\\site-packages (from ipython==7.6.1->-r requirements.txt (line 15)) (39.0.1)\n",
      "Collecting scipy>=0.17.0\n",
      "  Using cached scipy-1.4.1-cp36-cp36m-win_amd64.whl (30.8 MB)\n",
      "Collecting joblib>=0.11\n",
      "  Using cached joblib-0.14.1-py2.py3-none-any.whl (294 kB)\n",
      "Collecting h5py\n",
      "  Using cached h5py-2.10.0-cp36-cp36m-win_amd64.whl (2.4 MB)\n",
      "Collecting keras-applications>=1.0.6\n",
      "  Using cached Keras_Applications-1.0.8-py3-none-any.whl (50 kB)\n",
      "Collecting keras-preprocessing>=1.0.5\n",
      "  Using cached Keras_Preprocessing-1.1.0-py2.py3-none-any.whl (41 kB)\n",
      "Requirement already satisfied: kiwisolver>=1.0.1 in c:\\users\\ckinw\\appdata\\local\\programs\\python\\python36\\lib\\site-packages (from matplotlib==3.1.3->-r requirements.txt (line 66)) (1.1.0)\n",
      "Requirement already satisfied: cycler>=0.10 in c:\\users\\ckinw\\appdata\\local\\programs\\python\\python36\\lib\\site-packages (from matplotlib==3.1.3->-r requirements.txt (line 66)) (0.10.0)\n",
      "Requirement already satisfied: pyparsing!=2.0.4,!=2.1.2,!=2.1.6,>=2.0.1 in c:\\users\\ckinw\\appdata\\local\\programs\\python\\python36\\lib\\site-packages (from matplotlib==3.1.3->-r requirements.txt (line 66)) (2.4.6)\n",
      "Collecting pytz>=2017.2\n",
      "  Using cached pytz-2019.3-py2.py3-none-any.whl (509 kB)\n",
      "Installing collected packages: scipy, joblib, scikit-learn, h5py, keras-applications, keras-preprocessing, keras, pytz, pandas\n",
      "Successfully installed h5py-2.10.0 joblib-0.14.1 keras-2.3.1 keras-applications-1.0.8 keras-preprocessing-1.1.0 pandas-1.0.1 pytz-2019.3 scikit-learn-0.22.2.post1 scipy-1.4.1\n"
     ]
    }
   ],
   "source": [
    "!pip install -r requirements.txt"
   ]
  },
  {
   "cell_type": "code",
   "execution_count": 5,
   "metadata": {},
   "outputs": [
    {
     "name": "stderr",
     "output_type": "stream",
     "text": [
      "Using TensorFlow backend.\n"
     ]
    },
    {
     "ename": "ModuleNotFoundError",
     "evalue": "No module named 'tensorflow'",
     "output_type": "error",
     "traceback": [
      "\u001b[1;31m---------------------------------------------------------------------------\u001b[0m",
      "\u001b[1;31mModuleNotFoundError\u001b[0m                       Traceback (most recent call last)",
      "\u001b[1;32m<ipython-input-5-a3be891f65aa>\u001b[0m in \u001b[0;36m<module>\u001b[1;34m\u001b[0m\n\u001b[1;32m----> 1\u001b[1;33m \u001b[1;32mfrom\u001b[0m \u001b[0mkeras\u001b[0m\u001b[1;33m.\u001b[0m\u001b[0mcallbacks\u001b[0m \u001b[1;32mimport\u001b[0m \u001b[0mEarlyStopping\u001b[0m\u001b[1;33m\u001b[0m\u001b[1;33m\u001b[0m\u001b[0m\n\u001b[0m\u001b[0;32m      2\u001b[0m \u001b[1;32mfrom\u001b[0m \u001b[0mutil\u001b[0m \u001b[1;32mimport\u001b[0m \u001b[1;33m*\u001b[0m\u001b[1;33m\u001b[0m\u001b[1;33m\u001b[0m\u001b[0m\n\u001b[0;32m      3\u001b[0m \u001b[1;32mimport\u001b[0m \u001b[0mos\u001b[0m\u001b[1;33m\u001b[0m\u001b[1;33m\u001b[0m\u001b[0m\n\u001b[0;32m      4\u001b[0m \u001b[1;32mimport\u001b[0m \u001b[0mnumpy\u001b[0m \u001b[1;32mas\u001b[0m \u001b[0mnp\u001b[0m\u001b[1;33m\u001b[0m\u001b[1;33m\u001b[0m\u001b[0m\n\u001b[0;32m      5\u001b[0m \u001b[1;32mfrom\u001b[0m \u001b[0msklearn\u001b[0m\u001b[1;33m.\u001b[0m\u001b[0mmodel_selection\u001b[0m \u001b[1;32mimport\u001b[0m \u001b[0mKFold\u001b[0m \u001b[1;31m# import KFold\u001b[0m\u001b[1;33m\u001b[0m\u001b[1;33m\u001b[0m\u001b[0m\n",
      "\u001b[1;32mc:\\users\\ckinw\\appdata\\local\\programs\\python\\python36\\lib\\site-packages\\keras\\__init__.py\u001b[0m in \u001b[0;36m<module>\u001b[1;34m\u001b[0m\n\u001b[0;32m      1\u001b[0m \u001b[1;32mfrom\u001b[0m \u001b[0m__future__\u001b[0m \u001b[1;32mimport\u001b[0m \u001b[0mabsolute_import\u001b[0m\u001b[1;33m\u001b[0m\u001b[1;33m\u001b[0m\u001b[0m\n\u001b[0;32m      2\u001b[0m \u001b[1;33m\u001b[0m\u001b[0m\n\u001b[1;32m----> 3\u001b[1;33m \u001b[1;32mfrom\u001b[0m \u001b[1;33m.\u001b[0m \u001b[1;32mimport\u001b[0m \u001b[0mutils\u001b[0m\u001b[1;33m\u001b[0m\u001b[1;33m\u001b[0m\u001b[0m\n\u001b[0m\u001b[0;32m      4\u001b[0m \u001b[1;32mfrom\u001b[0m \u001b[1;33m.\u001b[0m \u001b[1;32mimport\u001b[0m \u001b[0mactivations\u001b[0m\u001b[1;33m\u001b[0m\u001b[1;33m\u001b[0m\u001b[0m\n\u001b[0;32m      5\u001b[0m \u001b[1;32mfrom\u001b[0m \u001b[1;33m.\u001b[0m \u001b[1;32mimport\u001b[0m \u001b[0mapplications\u001b[0m\u001b[1;33m\u001b[0m\u001b[1;33m\u001b[0m\u001b[0m\n",
      "\u001b[1;32mc:\\users\\ckinw\\appdata\\local\\programs\\python\\python36\\lib\\site-packages\\keras\\utils\\__init__.py\u001b[0m in \u001b[0;36m<module>\u001b[1;34m\u001b[0m\n\u001b[0;32m      4\u001b[0m \u001b[1;32mfrom\u001b[0m \u001b[1;33m.\u001b[0m \u001b[1;32mimport\u001b[0m \u001b[0mdata_utils\u001b[0m\u001b[1;33m\u001b[0m\u001b[1;33m\u001b[0m\u001b[0m\n\u001b[0;32m      5\u001b[0m \u001b[1;32mfrom\u001b[0m \u001b[1;33m.\u001b[0m \u001b[1;32mimport\u001b[0m \u001b[0mio_utils\u001b[0m\u001b[1;33m\u001b[0m\u001b[1;33m\u001b[0m\u001b[0m\n\u001b[1;32m----> 6\u001b[1;33m \u001b[1;32mfrom\u001b[0m \u001b[1;33m.\u001b[0m \u001b[1;32mimport\u001b[0m \u001b[0mconv_utils\u001b[0m\u001b[1;33m\u001b[0m\u001b[1;33m\u001b[0m\u001b[0m\n\u001b[0m\u001b[0;32m      7\u001b[0m \u001b[1;32mfrom\u001b[0m \u001b[1;33m.\u001b[0m \u001b[1;32mimport\u001b[0m \u001b[0mlosses_utils\u001b[0m\u001b[1;33m\u001b[0m\u001b[1;33m\u001b[0m\u001b[0m\n\u001b[0;32m      8\u001b[0m \u001b[1;32mfrom\u001b[0m \u001b[1;33m.\u001b[0m \u001b[1;32mimport\u001b[0m \u001b[0mmetrics_utils\u001b[0m\u001b[1;33m\u001b[0m\u001b[1;33m\u001b[0m\u001b[0m\n",
      "\u001b[1;32mc:\\users\\ckinw\\appdata\\local\\programs\\python\\python36\\lib\\site-packages\\keras\\utils\\conv_utils.py\u001b[0m in \u001b[0;36m<module>\u001b[1;34m\u001b[0m\n\u001b[0;32m      7\u001b[0m \u001b[1;32mfrom\u001b[0m \u001b[0msix\u001b[0m\u001b[1;33m.\u001b[0m\u001b[0mmoves\u001b[0m \u001b[1;32mimport\u001b[0m \u001b[0mrange\u001b[0m\u001b[1;33m\u001b[0m\u001b[1;33m\u001b[0m\u001b[0m\n\u001b[0;32m      8\u001b[0m \u001b[1;32mimport\u001b[0m \u001b[0mnumpy\u001b[0m \u001b[1;32mas\u001b[0m \u001b[0mnp\u001b[0m\u001b[1;33m\u001b[0m\u001b[1;33m\u001b[0m\u001b[0m\n\u001b[1;32m----> 9\u001b[1;33m \u001b[1;32mfrom\u001b[0m \u001b[1;33m.\u001b[0m\u001b[1;33m.\u001b[0m \u001b[1;32mimport\u001b[0m \u001b[0mbackend\u001b[0m \u001b[1;32mas\u001b[0m \u001b[0mK\u001b[0m\u001b[1;33m\u001b[0m\u001b[1;33m\u001b[0m\u001b[0m\n\u001b[0m\u001b[0;32m     10\u001b[0m \u001b[1;33m\u001b[0m\u001b[0m\n\u001b[0;32m     11\u001b[0m \u001b[1;33m\u001b[0m\u001b[0m\n",
      "\u001b[1;32mc:\\users\\ckinw\\appdata\\local\\programs\\python\\python36\\lib\\site-packages\\keras\\backend\\__init__.py\u001b[0m in \u001b[0;36m<module>\u001b[1;34m\u001b[0m\n\u001b[1;32m----> 1\u001b[1;33m \u001b[1;32mfrom\u001b[0m \u001b[1;33m.\u001b[0m\u001b[0mload_backend\u001b[0m \u001b[1;32mimport\u001b[0m \u001b[0mepsilon\u001b[0m\u001b[1;33m\u001b[0m\u001b[1;33m\u001b[0m\u001b[0m\n\u001b[0m\u001b[0;32m      2\u001b[0m \u001b[1;32mfrom\u001b[0m \u001b[1;33m.\u001b[0m\u001b[0mload_backend\u001b[0m \u001b[1;32mimport\u001b[0m \u001b[0mset_epsilon\u001b[0m\u001b[1;33m\u001b[0m\u001b[1;33m\u001b[0m\u001b[0m\n\u001b[0;32m      3\u001b[0m \u001b[1;32mfrom\u001b[0m \u001b[1;33m.\u001b[0m\u001b[0mload_backend\u001b[0m \u001b[1;32mimport\u001b[0m \u001b[0mfloatx\u001b[0m\u001b[1;33m\u001b[0m\u001b[1;33m\u001b[0m\u001b[0m\n\u001b[0;32m      4\u001b[0m \u001b[1;32mfrom\u001b[0m \u001b[1;33m.\u001b[0m\u001b[0mload_backend\u001b[0m \u001b[1;32mimport\u001b[0m \u001b[0mset_floatx\u001b[0m\u001b[1;33m\u001b[0m\u001b[1;33m\u001b[0m\u001b[0m\n\u001b[0;32m      5\u001b[0m \u001b[1;32mfrom\u001b[0m \u001b[1;33m.\u001b[0m\u001b[0mload_backend\u001b[0m \u001b[1;32mimport\u001b[0m \u001b[0mcast_to_floatx\u001b[0m\u001b[1;33m\u001b[0m\u001b[1;33m\u001b[0m\u001b[0m\n",
      "\u001b[1;32mc:\\users\\ckinw\\appdata\\local\\programs\\python\\python36\\lib\\site-packages\\keras\\backend\\load_backend.py\u001b[0m in \u001b[0;36m<module>\u001b[1;34m\u001b[0m\n\u001b[0;32m     88\u001b[0m \u001b[1;32melif\u001b[0m \u001b[0m_BACKEND\u001b[0m \u001b[1;33m==\u001b[0m \u001b[1;34m'tensorflow'\u001b[0m\u001b[1;33m:\u001b[0m\u001b[1;33m\u001b[0m\u001b[1;33m\u001b[0m\u001b[0m\n\u001b[0;32m     89\u001b[0m     \u001b[0msys\u001b[0m\u001b[1;33m.\u001b[0m\u001b[0mstderr\u001b[0m\u001b[1;33m.\u001b[0m\u001b[0mwrite\u001b[0m\u001b[1;33m(\u001b[0m\u001b[1;34m'Using TensorFlow backend.\\n'\u001b[0m\u001b[1;33m)\u001b[0m\u001b[1;33m\u001b[0m\u001b[1;33m\u001b[0m\u001b[0m\n\u001b[1;32m---> 90\u001b[1;33m     \u001b[1;32mfrom\u001b[0m \u001b[1;33m.\u001b[0m\u001b[0mtensorflow_backend\u001b[0m \u001b[1;32mimport\u001b[0m \u001b[1;33m*\u001b[0m\u001b[1;33m\u001b[0m\u001b[1;33m\u001b[0m\u001b[0m\n\u001b[0m\u001b[0;32m     91\u001b[0m \u001b[1;32melse\u001b[0m\u001b[1;33m:\u001b[0m\u001b[1;33m\u001b[0m\u001b[1;33m\u001b[0m\u001b[0m\n\u001b[0;32m     92\u001b[0m     \u001b[1;31m# Try and load external backend.\u001b[0m\u001b[1;33m\u001b[0m\u001b[1;33m\u001b[0m\u001b[1;33m\u001b[0m\u001b[0m\n",
      "\u001b[1;32mc:\\users\\ckinw\\appdata\\local\\programs\\python\\python36\\lib\\site-packages\\keras\\backend\\tensorflow_backend.py\u001b[0m in \u001b[0;36m<module>\u001b[1;34m\u001b[0m\n\u001b[0;32m      3\u001b[0m \u001b[1;32mfrom\u001b[0m \u001b[0m__future__\u001b[0m \u001b[1;32mimport\u001b[0m \u001b[0mprint_function\u001b[0m\u001b[1;33m\u001b[0m\u001b[1;33m\u001b[0m\u001b[0m\n\u001b[0;32m      4\u001b[0m \u001b[1;33m\u001b[0m\u001b[0m\n\u001b[1;32m----> 5\u001b[1;33m \u001b[1;32mimport\u001b[0m \u001b[0mtensorflow\u001b[0m \u001b[1;32mas\u001b[0m \u001b[0mtf\u001b[0m\u001b[1;33m\u001b[0m\u001b[1;33m\u001b[0m\u001b[0m\n\u001b[0m\u001b[0;32m      6\u001b[0m \u001b[1;32mfrom\u001b[0m \u001b[0mtensorflow\u001b[0m\u001b[1;33m.\u001b[0m\u001b[0mpython\u001b[0m\u001b[1;33m.\u001b[0m\u001b[0meager\u001b[0m \u001b[1;32mimport\u001b[0m \u001b[0mcontext\u001b[0m\u001b[1;33m\u001b[0m\u001b[1;33m\u001b[0m\u001b[0m\n\u001b[0;32m      7\u001b[0m \u001b[1;32mfrom\u001b[0m \u001b[0mtensorflow\u001b[0m\u001b[1;33m.\u001b[0m\u001b[0mpython\u001b[0m\u001b[1;33m.\u001b[0m\u001b[0mframework\u001b[0m \u001b[1;32mimport\u001b[0m \u001b[0mdevice\u001b[0m \u001b[1;32mas\u001b[0m \u001b[0mtfdev\u001b[0m\u001b[1;33m\u001b[0m\u001b[1;33m\u001b[0m\u001b[0m\n",
      "\u001b[1;31mModuleNotFoundError\u001b[0m: No module named 'tensorflow'"
     ]
    }
   ],
   "source": [
    "from keras.callbacks import EarlyStopping\n",
    "from util import *\n",
    "import os\n",
    "import numpy as np\n",
    "from sklearn.model_selection import KFold # import KFold\n",
    "\n",
    "\n",
    "def load_data_set_raw():\n",
    "    x_train = np.zeros((7352, 128, 3))\n",
    "    data_set_root = \"Data-sets/UCI-HAR-Data-set/UCI-HAR-Data-set/train/Inertial Signals\"\n",
    "    for text_file in os.listdir(data_set_root):\n",
    "        full_path = os.path.join(data_set_root, text_file)\n",
    "        temp = load_data_uci(full_path).to_numpy().astype(float)\n",
    "        temp = temp.reshape((len(temp), 128, 1))\n",
    "        x_train = np.concatenate((x_train, temp), axis=2)\n",
    "    x_train = extract_features(x_train)\n",
    "    x_test = np.zeros((2947, 128, 3))\n",
    "    data_set_root = \"Data-sets/UCI-HAR-Data-set/UCI-HAR-Data-set/test/Inertial Signals\"\n",
    "    for text_file in os.listdir(data_set_root):\n",
    "        full_path = os.path.join(data_set_root, text_file)\n",
    "        temp = load_data_uci(full_path).to_numpy().astype(float)\n",
    "        temp = temp.reshape((len(temp), 128, 1))\n",
    "        x_test = np.concatenate((x_test, temp), axis=2)\n",
    "    x_test = extract_features(x_test)\n",
    "    x_data = np.concatenate((x_train, x_test), axis=0)\n",
    "    y_train = load_data_uci(\"Data-sets/UCI-HAR-Data-set/UCI-HAR-Data-set/train/y_train.txt\")\n",
    "    y_test = load_data_uci(\"Data-sets/UCI-HAR-Data-set/UCI-HAR-Data-set/test/y_test.txt\")\n",
    "    y_data = np.concatenate((y_train, y_test), axis=0)\n",
    "    return x_data, y_data"
   ]
  },
  {
   "cell_type": "code",
   "execution_count": null,
   "metadata": {},
   "outputs": [],
   "source": []
  }
 ],
 "metadata": {
  "kernelspec": {
   "display_name": "Python 3",
   "language": "python",
   "name": "python3"
  },
  "language_info": {
   "codemirror_mode": {
    "name": "ipython",
    "version": 3
   },
   "file_extension": ".py",
   "mimetype": "text/x-python",
   "name": "python",
   "nbconvert_exporter": "python",
   "pygments_lexer": "ipython3",
   "version": "3.6.7"
  }
 },
 "nbformat": 4,
 "nbformat_minor": 2
}
