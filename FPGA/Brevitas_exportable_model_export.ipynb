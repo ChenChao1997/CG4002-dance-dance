{
 "cells": [
  {
   "cell_type": "code",
   "execution_count": null,
   "metadata": {},
   "outputs": [],
   "source": [
    "import torch\n",
    "from torch.nn import Module\n",
    "import torch.nn.functional as F\n",
    "import brevitas.nn as qnn\n",
    "import torch \n",
    "import numpy as np\n",
    "import torch.nn as nn\n",
    "import brevitas.onnx as bo\n",
    "\n",
    "input_dim = 72\n",
    "output_dim = 11\n",
    "\n",
    "x_data = np.load('inputs.npy', fix_imports=False)\n",
    "y_data = np.load('labels.npy', fix_imports=False)"
   ]
  },
  {
   "cell_type": "code",
   "execution_count": null,
   "metadata": {},
   "outputs": [],
   "source": [
    "#hardtanh version\n",
    "class MLP_quantized_exportable(Module):\n",
    "    def __init__(self):\n",
    "        super(MLP_quantized_exportable, self).__init__()\n",
    "        self.input   = qnn.QuantLinear(input_dim, 256, bias=False, \n",
    "                                     weight_quant_type=QuantType.INT, \n",
    "                                     weight_bit_width=8)\n",
    "        self.input_relu = qnn.QuantHardTanh(quant_type=QuantType.INT, bit_width=8)\n",
    "        \n",
    "        self.h1   = qnn.QuantLinear(256, 256, bias=False, \n",
    "                                     weight_quant_type=QuantType.INT, \n",
    "                                     weight_bit_width=8)\n",
    "        self.relu1 = qnn.QuantHardTanh(quant_type=QuantType.INT, bit_width=8)\n",
    "        \n",
    "        self.h2   = qnn.QuantLinear(256, 128, bias=False, \n",
    "                                     weight_quant_type=QuantType.INT, \n",
    "                                     weight_bit_width=8)\n",
    "        self.relu2 = qnn.QuantHardTanh(quant_type=QuantType.INT, bit_width=8)\n",
    "        \n",
    "        self.h3   = qnn.QuantLinear(128, output_dim, bias=False, \n",
    "                                     weight_quant_type=QuantType.INT, \n",
    "                                     weight_bit_width=8)\n",
    "\n",
    "        self.output   = qnn.QuantSigmoid(quant_type=QuantType.FP, bit_width=8)\n",
    "\n",
    "    def forward(self, x):\n",
    "        x = self.input(x)\n",
    "        x = self.input_relu(x)\n",
    "        \n",
    "        x = self.h1(x)\n",
    "        x = self.relu1(x)\n",
    "        \n",
    "        x = self.h2(x)\n",
    "        x = self.relu2(x)\n",
    "        \n",
    "        x = self.h3(x)\n",
    "        return self.output(x)"
   ]
  },
  {
   "cell_type": "code",
   "execution_count": null,
   "metadata": {},
   "outputs": [],
   "source": [
    "bo.export_finn_onnx(model, (input_dim), \"fpga_model.onnx\")"
   ]
  }
 ],
 "metadata": {
  "kernelspec": {
   "display_name": "Python 3",
   "language": "python",
   "name": "python3"
  },
  "language_info": {
   "codemirror_mode": {
    "name": "ipython",
    "version": 3
   },
   "file_extension": ".py",
   "mimetype": "text/x-python",
   "name": "python",
   "nbconvert_exporter": "python",
   "pygments_lexer": "ipython3",
   "version": "3.7.3"
  }
 },
 "nbformat": 4,
 "nbformat_minor": 2
}
