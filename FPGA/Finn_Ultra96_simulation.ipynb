{
 "cells": [
  {
   "cell_type": "code",
   "execution_count": null,
   "metadata": {},
   "outputs": [],
   "source": [
    "#Setup \n",
    "import inspect\n",
    "import netron\n",
    "import numpy as np\n",
    "from finn.util.basic import make_build_dir\n",
    "from IPython.display import IFrame\n",
    "from pkgutil import get_data\n",
    "import onnx\n",
    "import onnx.numpy_helper as nph\n",
    "import torch\n",
    "from finn.custom_op.xnorpopcount import xnorpopcountmatmul\n",
    "from finn.core.modelwrapper import ModelWrapper\n",
    "\n",
    "from finn.util.test import get_test_model_trained\n",
    "def showSrc(what):\n",
    "    print(\"\".join(inspect.getsourcelines(what)[0]))\n",
    "    \n",
    "def showInNetron(model_filename):\n",
    "    netron.start(model_filename, port=8081, host=\"0.0.0.0\")\n",
    "    return IFrame(src=\"http://0.0.0.0:8081/\", width=\"100%\", height=400)\n",
    "    \n",
    "\n",
    "fc = get_test_model_trained(\"TFC\", 1, 1)\n",
    "raw_i = get_data(\"finn\", \"data/onnx/mnist-conv/test_data_set_0/input_0.pb\")\n",
    "#Compare output, +-5% different should be good\n",
    "input_tensor = onnx.load_tensor_from_string(raw_i)\n",
    "input_brevitas = torch.from_numpy(nph.to_array(input_tensor)).float()\n",
    "output_golden = fc.forward(input_brevitas).detach().numpy()\n",
    "output_golden\n",
    "\n",
    "    \n",
    "build_dir = \"/workspace/finn\"\n",
    "\n"
   ]
  },
  {
   "cell_type": "code",
   "execution_count": null,
   "metadata": {},
   "outputs": [],
   "source": [
    "#python simulation, before HLS layers\n",
    "\n",
    "input_dict = {\"global_in\": nph.to_array(input_tensor)}\n",
    "\n",
    "model_for_sim = ModelWrapper(build_dir+\"/tfc_w1a1_ready_for_hls_conversion.onnx\")\n",
    "\n",
    "import finn.core.onnx_exec as oxe\n",
    "output_dict = oxe.execute_onnx(model_for_sim, input_dict)\n",
    "output_pysim = output_dict[list(output_dict.keys())[0]]\n",
    "\n",
    "\n",
    "if np.isclose(output_pysim, output_golden, atol=1e-3).all():\n",
    "    print(\"Results are the same!\")\n",
    "else:\n",
    "    print(\"The results are not the same!\")"
   ]
  },
  {
   "cell_type": "code",
   "execution_count": null,
   "metadata": {},
   "outputs": [],
   "source": [
    "#c++ simulation, after hls layers\n",
    "from finn.transformation.fpgadataflow.codegen_npysim import CodeGen_npysim\n",
    "from finn.transformation.fpgadataflow.compile import Compile\n",
    "\n",
    "model_for_npysim = model_for_npysim.transform(CodeGen_npysim())\n",
    "model_for_npysim = model_for_npysim.transform(Compile())\n",
    "\n",
    "model_for_npysim.save(build_dir+\"/tfc_w1_a1_for_npysim.onnx\")\n",
    "showInNetron(build_dir+\"/tfc_w1_a1_for_npysim.onnx\")"
   ]
  },
  {
   "cell_type": "code",
   "execution_count": null,
   "metadata": {},
   "outputs": [],
   "source": [
    "#Emulation (rtlsim) using PyVerilator, after IP generation"
   ]
  }
 ],
 "metadata": {
  "kernelspec": {
   "display_name": "Python 3",
   "language": "python",
   "name": "python3"
  },
  "language_info": {
   "codemirror_mode": {
    "name": "ipython",
    "version": 3
   },
   "file_extension": ".py",
   "mimetype": "text/x-python",
   "name": "python",
   "nbconvert_exporter": "python",
   "pygments_lexer": "ipython3",
   "version": "3.7.3"
  }
 },
 "nbformat": 4,
 "nbformat_minor": 2
}
